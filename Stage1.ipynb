{
  "nbformat": 4,
  "nbformat_minor": 0,
  "metadata": {
    "colab": {
      "name": "Stage1.ipynb",
      "provenance": [],
      "collapsed_sections": [],
      "machine_shape": "hm",
      "include_colab_link": true
    },
    "kernelspec": {
      "name": "python3",
      "display_name": "Python 3"
    },
    "accelerator": "GPU"
  },
  "cells": [
    {
      "cell_type": "markdown",
      "metadata": {
        "id": "view-in-github",
        "colab_type": "text"
      },
      "source": [
        "<a href=\"https://colab.research.google.com/github/yiyinglai/Pneumonia/blob/master/Stage1.ipynb\" target=\"_parent\"><img src=\"https://colab.research.google.com/assets/colab-badge.svg\" alt=\"Open In Colab\"/></a>"
      ]
    },
    {
      "cell_type": "code",
      "metadata": {
        "id": "BVXCRO_SXizn",
        "colab_type": "code",
        "outputId": "8f75f2b5-80e6-4ceb-aab0-174eee8592d7",
        "colab": {
          "base_uri": "https://localhost:8080/",
          "height": 124
        }
      },
      "source": [
        "from google.colab import drive\n",
        "drive.mount('/content/gdrive/')"
      ],
      "execution_count": 0,
      "outputs": [
        {
          "output_type": "stream",
          "text": [
            "Go to this URL in a browser: https://accounts.google.com/o/oauth2/auth?client_id=947318989803-6bn6qk8qdgf4n4g3pfee6491hc0brc4i.apps.googleusercontent.com&redirect_uri=urn%3aietf%3awg%3aoauth%3a2.0%3aoob&response_type=code&scope=email%20https%3a%2f%2fwww.googleapis.com%2fauth%2fdocs.test%20https%3a%2f%2fwww.googleapis.com%2fauth%2fdrive%20https%3a%2f%2fwww.googleapis.com%2fauth%2fdrive.photos.readonly%20https%3a%2f%2fwww.googleapis.com%2fauth%2fpeopleapi.readonly\n",
            "\n",
            "Enter your authorization code:\n",
            "··········\n",
            "Mounted at /content/gdrive/\n"
          ],
          "name": "stdout"
        }
      ]
    },
    {
      "cell_type": "code",
      "metadata": {
        "id": "hCAR15UuDNVh",
        "colab_type": "code",
        "outputId": "71d09307-0f19-4a15-dfa6-6a0014c51046",
        "colab": {
          "base_uri": "https://localhost:8080/",
          "height": 835
        }
      },
      "source": [
        "# %tensorflow_version 2.x\n",
        "from __future__ import absolute_import, division, print_function, unicode_literals\n",
        "import tensorflow\n",
        "from tensorflow import keras\n",
        "from tensorflow.keras import backend\n",
        "from tensorflow.keras.models import load_model\n",
        "from tensorflow.keras.preprocessing.image import ImageDataGenerator\n",
        "from sklearn.preprocessing import label_binarize\n",
        "from sklearn.metrics import roc_curve, auc, confusion_matrix, accuracy_score\n",
        "from sklearn.svm import OneClassSVM\n",
        "from sklearn.neighbors import LocalOutlierFactor\n",
        "from keras.utils import plot_model\n",
        "import matplotlib.pyplot as plt\n",
        "from scipy import interp\n",
        "import numpy as np\n",
        "import tqdm\n",
        "import math\n",
        "import cv2\n",
        "import os\n",
        "! pip install git+https://github.com/divamgupta/image-segmentation-keras.git"
      ],
      "execution_count": 0,
      "outputs": [
        {
          "output_type": "stream",
          "text": [
            "Collecting git+https://github.com/divamgupta/image-segmentation-keras.git\n",
            "  Cloning https://github.com/divamgupta/image-segmentation-keras.git to /tmp/pip-req-build-i1ww8p4e\n",
            "  Running command git clone -q https://github.com/divamgupta/image-segmentation-keras.git /tmp/pip-req-build-i1ww8p4e\n",
            "Requirement already satisfied: Keras>=2.0.0 in /usr/local/lib/python3.6/dist-packages (from keras-segmentation==0.3.0) (2.2.5)\n",
            "Requirement already satisfied: imgaug>=0.2.9 in /usr/local/lib/python3.6/dist-packages (from keras-segmentation==0.3.0) (0.2.9)\n",
            "Collecting opencv-python>=4.1.1.26\n",
            "\u001b[?25l  Downloading https://files.pythonhosted.org/packages/c0/a9/9828dfaf93f40e190ebfb292141df6b7ea1a2d57b46263e757f52be8589f/opencv_python-4.1.2.30-cp36-cp36m-manylinux1_x86_64.whl (28.3MB)\n",
            "\u001b[K     |████████████████████████████████| 28.3MB 1.5MB/s \n",
            "\u001b[?25hRequirement already satisfied: tqdm in /usr/local/lib/python3.6/dist-packages (from keras-segmentation==0.3.0) (4.28.1)\n",
            "Requirement already satisfied: six>=1.9.0 in /usr/local/lib/python3.6/dist-packages (from Keras>=2.0.0->keras-segmentation==0.3.0) (1.12.0)\n",
            "Requirement already satisfied: numpy>=1.9.1 in /usr/local/lib/python3.6/dist-packages (from Keras>=2.0.0->keras-segmentation==0.3.0) (1.17.4)\n",
            "Requirement already satisfied: keras-preprocessing>=1.1.0 in /usr/local/lib/python3.6/dist-packages (from Keras>=2.0.0->keras-segmentation==0.3.0) (1.1.0)\n",
            "Requirement already satisfied: keras-applications>=1.0.8 in /usr/local/lib/python3.6/dist-packages (from Keras>=2.0.0->keras-segmentation==0.3.0) (1.0.8)\n",
            "Requirement already satisfied: h5py in /usr/local/lib/python3.6/dist-packages (from Keras>=2.0.0->keras-segmentation==0.3.0) (2.8.0)\n",
            "Requirement already satisfied: scipy>=0.14 in /usr/local/lib/python3.6/dist-packages (from Keras>=2.0.0->keras-segmentation==0.3.0) (1.3.2)\n",
            "Requirement already satisfied: pyyaml in /usr/local/lib/python3.6/dist-packages (from Keras>=2.0.0->keras-segmentation==0.3.0) (3.13)\n",
            "Requirement already satisfied: Shapely in /usr/local/lib/python3.6/dist-packages (from imgaug>=0.2.9->keras-segmentation==0.3.0) (1.6.4.post2)\n",
            "Requirement already satisfied: matplotlib in /usr/local/lib/python3.6/dist-packages (from imgaug>=0.2.9->keras-segmentation==0.3.0) (3.1.1)\n",
            "Requirement already satisfied: Pillow in /usr/local/lib/python3.6/dist-packages (from imgaug>=0.2.9->keras-segmentation==0.3.0) (4.3.0)\n",
            "Requirement already satisfied: scikit-image>=0.11.0 in /usr/local/lib/python3.6/dist-packages (from imgaug>=0.2.9->keras-segmentation==0.3.0) (0.15.0)\n",
            "Requirement already satisfied: imageio in /usr/local/lib/python3.6/dist-packages (from imgaug>=0.2.9->keras-segmentation==0.3.0) (2.4.1)\n",
            "Requirement already satisfied: kiwisolver>=1.0.1 in /usr/local/lib/python3.6/dist-packages (from matplotlib->imgaug>=0.2.9->keras-segmentation==0.3.0) (1.1.0)\n",
            "Requirement already satisfied: cycler>=0.10 in /usr/local/lib/python3.6/dist-packages (from matplotlib->imgaug>=0.2.9->keras-segmentation==0.3.0) (0.10.0)\n",
            "Requirement already satisfied: python-dateutil>=2.1 in /usr/local/lib/python3.6/dist-packages (from matplotlib->imgaug>=0.2.9->keras-segmentation==0.3.0) (2.6.1)\n",
            "Requirement already satisfied: pyparsing!=2.0.4,!=2.1.2,!=2.1.6,>=2.0.1 in /usr/local/lib/python3.6/dist-packages (from matplotlib->imgaug>=0.2.9->keras-segmentation==0.3.0) (2.4.5)\n",
            "Requirement already satisfied: olefile in /usr/local/lib/python3.6/dist-packages (from Pillow->imgaug>=0.2.9->keras-segmentation==0.3.0) (0.46)\n",
            "Requirement already satisfied: PyWavelets>=0.4.0 in /usr/local/lib/python3.6/dist-packages (from scikit-image>=0.11.0->imgaug>=0.2.9->keras-segmentation==0.3.0) (1.1.1)\n",
            "Requirement already satisfied: networkx>=2.0 in /usr/local/lib/python3.6/dist-packages (from scikit-image>=0.11.0->imgaug>=0.2.9->keras-segmentation==0.3.0) (2.4)\n",
            "Requirement already satisfied: setuptools in /usr/local/lib/python3.6/dist-packages (from kiwisolver>=1.0.1->matplotlib->imgaug>=0.2.9->keras-segmentation==0.3.0) (41.6.0)\n",
            "Requirement already satisfied: decorator>=4.3.0 in /usr/local/lib/python3.6/dist-packages (from networkx>=2.0->scikit-image>=0.11.0->imgaug>=0.2.9->keras-segmentation==0.3.0) (4.4.1)\n",
            "Building wheels for collected packages: keras-segmentation\n",
            "  Building wheel for keras-segmentation (setup.py) ... \u001b[?25l\u001b[?25hdone\n",
            "  Created wheel for keras-segmentation: filename=keras_segmentation-0.3.0-cp36-none-any.whl size=39858 sha256=6a8b4d724e248437cd08054470f3ab7f2acce1ec15e39a5b7a3b235f31ccd5e8\n",
            "  Stored in directory: /tmp/pip-ephem-wheel-cache-hhevm6dr/wheels/0a/4e/8b/d3f9088958a351a72f48ede4558836b78a03c0c124f81f41ed\n",
            "Successfully built keras-segmentation\n",
            "\u001b[31mERROR: albumentations 0.1.12 has requirement imgaug<0.2.7,>=0.2.5, but you'll have imgaug 0.2.9 which is incompatible.\u001b[0m\n",
            "Installing collected packages: opencv-python, keras-segmentation\n",
            "  Found existing installation: opencv-python 3.4.7.28\n",
            "    Uninstalling opencv-python-3.4.7.28:\n",
            "      Successfully uninstalled opencv-python-3.4.7.28\n",
            "Successfully installed keras-segmentation-0.3.0 opencv-python-4.1.2.30\n"
          ],
          "name": "stdout"
        },
        {
          "output_type": "display_data",
          "data": {
            "application/vnd.colab-display-data+json": {
              "pip_warning": {
                "packages": [
                  "cv2"
                ]
              }
            }
          },
          "metadata": {
            "tags": []
          }
        }
      ]
    },
    {
      "cell_type": "code",
      "metadata": {
        "id": "a461dvXf9HqT",
        "colab_type": "code",
        "colab": {}
      },
      "source": [
        "# move dataset to colab space\n",
        "!cp -r \"/content/gdrive/My Drive/ECE1512/stage1/\" /content/"
      ],
      "execution_count": 0,
      "outputs": []
    },
    {
      "cell_type": "code",
      "metadata": {
        "id": "NtN6jkJ2rIeL",
        "colab_type": "code",
        "outputId": "f35a284e-05cf-4b6b-c1b7-951301055dca",
        "colab": {
          "base_uri": "https://localhost:8080/",
          "height": 139
        }
      },
      "source": [
        "# GENERATORS FOR model\n",
        "\n",
        "from tensorflow.keras.preprocessing.image import ImageDataGenerator\n",
        "from sklearn.utils.class_weight import compute_class_weight\n",
        "\n",
        "train_directory = '/content/stage1/train'\n",
        "validation_directory = '/content/stage1/validation'\n",
        "test_directory = '/content/stage1/test'\n",
        "CLASSES = ['normal', 'pneumonia']\n",
        "\n",
        "image_size = (299, 299)\n",
        "\n",
        "# train image generator\n",
        "train_datagen = ImageDataGenerator(rescale=1./255,\n",
        "                                   rotation_range=10,\n",
        "                                   horizontal_flip=True,\n",
        "                                   vertical_flip=True)\n",
        "train_generator = train_datagen.flow_from_directory(train_directory,\n",
        "                                                    class_mode='categorical',\n",
        "                                                    interpolation='bilinear',\n",
        "                                                    target_size=image_size,\n",
        "                                                    batch_size=16,\n",
        "                                                    shuffle=True,\n",
        "                                                    classes=CLASSES)\n",
        "unique, train_counts = np.unique(train_generator.labels, return_counts=True)\n",
        "train_size = train_counts.sum()\n",
        "# validation image generator\n",
        "validation_datagen = ImageDataGenerator(rescale=1./255,\n",
        "                                        rotation_range=10,\n",
        "                                        horizontal_flip=True,\n",
        "                                        vertical_flip=True)\n",
        "validation_generator = validation_datagen.flow_from_directory(validation_directory,\n",
        "                                                    class_mode='categorical',\n",
        "                                                    interpolation='bilinear',\n",
        "                                                    target_size=image_size,\n",
        "                                                    batch_size=16,\n",
        "                                                    shuffle=True,\n",
        "                                                    classes=CLASSES)\n",
        "unique, validation_counts = np.unique(validation_generator.labels, return_counts=True)\n",
        "validation_size = validation_counts.sum()\n",
        "# test image generator\n",
        "test_datagen = ImageDataGenerator(rescale=1./255,\n",
        "                                  rotation_range=10,\n",
        "                                  horizontal_flip=True,\n",
        "                                  vertical_flip=True)\n",
        "test_generator = test_datagen.flow_from_directory(test_directory,\n",
        "                                                  class_mode='categorical',\n",
        "                                                  interpolation='bilinear',\n",
        "                                                  target_size=image_size,\n",
        "                                                  batch_size=16,\n",
        "                                                  shuffle=False,\n",
        "                                                  classes=CLASSES)\n",
        "unique, test_counts = np.unique(test_generator.labels, return_counts=True)\n",
        "test_size = test_counts.sum()\n",
        "\n",
        "print(train_generator.class_indices)\n",
        "print(validation_generator.class_indices)\n",
        "print(test_generator.class_indices)\n",
        "\n",
        "class_weights = compute_class_weight('balanced', np.unique(train_generator.classes), train_generator.classes)\n",
        "print(class_weights)"
      ],
      "execution_count": 0,
      "outputs": [
        {
          "output_type": "stream",
          "text": [
            "Found 4108 images belonging to 2 classes.\n",
            "Found 878 images belonging to 2 classes.\n",
            "Found 879 images belonging to 2 classes.\n",
            "{'normal': 0, 'pneumonia': 1}\n",
            "{'normal': 0, 'pneumonia': 1}\n",
            "{'normal': 0, 'pneumonia': 1}\n",
            "[1.83885407 0.68672685]\n"
          ],
          "name": "stdout"
        }
      ]
    },
    {
      "cell_type": "markdown",
      "metadata": {
        "id": "NR1fkrWI6Jpa",
        "colab_type": "text"
      },
      "source": [
        "**Inceptionv3**"
      ]
    },
    {
      "cell_type": "code",
      "metadata": {
        "id": "j7tIUFyUdkZc",
        "colab_type": "code",
        "outputId": "5407d374-4d53-4088-f9ac-ae52843d8fd7",
        "colab": {
          "base_uri": "https://localhost:8080/",
          "height": 587
        }
      },
      "source": [
        "# LOAD PRETRAINED MODEL InceptionV3\n",
        "from keras.applications.inception_v3 import InceptionV3\n",
        "from keras.applications.nasnet import NASNetLarge\n",
        "\n",
        "# create the base pre-trained model\n",
        "inceptionv3 = InceptionV3(weights='imagenet', include_top=True)\n",
        "# nasnetlarge = NASNetLarge(weights='imagenet', include_top=False, pooling='avg', classes=2)"
      ],
      "execution_count": 0,
      "outputs": [
        {
          "output_type": "stream",
          "text": [
            "Using TensorFlow backend.\n"
          ],
          "name": "stderr"
        },
        {
          "output_type": "display_data",
          "data": {
            "text/html": [
              "<p style=\"color: red;\">\n",
              "The default version of TensorFlow in Colab will soon switch to TensorFlow 2.x.<br>\n",
              "We recommend you <a href=\"https://www.tensorflow.org/guide/migrate\" target=\"_blank\">upgrade</a> now \n",
              "or ensure your notebook will continue to use TensorFlow 1.x via the <code>%tensorflow_version 1.x</code> magic:\n",
              "<a href=\"https://colab.research.google.com/notebooks/tensorflow_version.ipynb\" target=\"_blank\">more info</a>.</p>\n"
            ],
            "text/plain": [
              "<IPython.core.display.HTML object>"
            ]
          },
          "metadata": {
            "tags": []
          }
        },
        {
          "output_type": "stream",
          "text": [
            "WARNING:tensorflow:From /usr/local/lib/python3.6/dist-packages/keras/backend/tensorflow_backend.py:66: The name tf.get_default_graph is deprecated. Please use tf.compat.v1.get_default_graph instead.\n",
            "\n",
            "WARNING:tensorflow:From /usr/local/lib/python3.6/dist-packages/keras/backend/tensorflow_backend.py:541: The name tf.placeholder is deprecated. Please use tf.compat.v1.placeholder instead.\n",
            "\n",
            "WARNING:tensorflow:From /usr/local/lib/python3.6/dist-packages/keras/backend/tensorflow_backend.py:4432: The name tf.random_uniform is deprecated. Please use tf.random.uniform instead.\n",
            "\n",
            "WARNING:tensorflow:From /usr/local/lib/python3.6/dist-packages/keras/backend/tensorflow_backend.py:190: The name tf.get_default_session is deprecated. Please use tf.compat.v1.get_default_session instead.\n",
            "\n",
            "WARNING:tensorflow:From /usr/local/lib/python3.6/dist-packages/keras/backend/tensorflow_backend.py:197: The name tf.ConfigProto is deprecated. Please use tf.compat.v1.ConfigProto instead.\n",
            "\n",
            "WARNING:tensorflow:From /usr/local/lib/python3.6/dist-packages/keras/backend/tensorflow_backend.py:203: The name tf.Session is deprecated. Please use tf.compat.v1.Session instead.\n",
            "\n",
            "WARNING:tensorflow:From /usr/local/lib/python3.6/dist-packages/keras/backend/tensorflow_backend.py:207: The name tf.global_variables is deprecated. Please use tf.compat.v1.global_variables instead.\n",
            "\n",
            "WARNING:tensorflow:From /usr/local/lib/python3.6/dist-packages/keras/backend/tensorflow_backend.py:216: The name tf.is_variable_initialized is deprecated. Please use tf.compat.v1.is_variable_initialized instead.\n",
            "\n",
            "WARNING:tensorflow:From /usr/local/lib/python3.6/dist-packages/keras/backend/tensorflow_backend.py:223: The name tf.variables_initializer is deprecated. Please use tf.compat.v1.variables_initializer instead.\n",
            "\n",
            "WARNING:tensorflow:From /usr/local/lib/python3.6/dist-packages/keras/backend/tensorflow_backend.py:2041: The name tf.nn.fused_batch_norm is deprecated. Please use tf.compat.v1.nn.fused_batch_norm instead.\n",
            "\n",
            "WARNING:tensorflow:From /usr/local/lib/python3.6/dist-packages/keras/backend/tensorflow_backend.py:148: The name tf.placeholder_with_default is deprecated. Please use tf.compat.v1.placeholder_with_default instead.\n",
            "\n",
            "WARNING:tensorflow:From /usr/local/lib/python3.6/dist-packages/keras/backend/tensorflow_backend.py:4267: The name tf.nn.max_pool is deprecated. Please use tf.nn.max_pool2d instead.\n",
            "\n",
            "WARNING:tensorflow:From /usr/local/lib/python3.6/dist-packages/keras/backend/tensorflow_backend.py:4271: The name tf.nn.avg_pool is deprecated. Please use tf.nn.avg_pool2d instead.\n",
            "\n",
            "Downloading data from https://github.com/fchollet/deep-learning-models/releases/download/v0.5/inception_v3_weights_tf_dim_ordering_tf_kernels.h5\n",
            "96116736/96112376 [==============================] - 1s 0us/step\n"
          ],
          "name": "stdout"
        }
      ]
    },
    {
      "cell_type": "code",
      "metadata": {
        "id": "KBQnh3lCnRg8",
        "colab_type": "code",
        "colab": {}
      },
      "source": [
        "# BUILD NEW CLASSIFICATION MODEL BASED ON inceptionv3\n",
        "import tensorflow\n",
        "from keras.optimizers import RMSprop, Adam\n",
        "from keras.models import Model\n",
        "from keras.layers import Dense, GlobalAveragePooling2D, Activation, Input, Dense, Lambda\n",
        "from keras import metrics\n",
        "from keras.backend import resize_images\n",
        "import cv2\n",
        "\n",
        "y = inceptionv3.layers[-2].output\n",
        "outputs = Dense(2, activation='sigmoid')(y)\n",
        "\n",
        "# this is the model we will train\n",
        "model1 = Model(inputs=inceptionv3.inputs, outputs=outputs)\n",
        "\n",
        "# first: train only the top layers (which were randomly initialized)\n",
        "# i.e. freeze all convolutional InceptionV3 layers\n",
        "for layer in inceptionv3.layers:\n",
        "  layer.trainable = False\n",
        "for layer in model1.layers:\n",
        "  layer.trainable = True\n",
        "\n",
        "adam = Adam()\n",
        "# compile the model (should be done *after* setting layers to non-trainable)\n",
        "model1.compile(optimizer=adam, loss='categorical_crossentropy', metrics=[metrics.categorical_accuracy])\n",
        "# model1.summary()"
      ],
      "execution_count": 0,
      "outputs": []
    },
    {
      "cell_type": "code",
      "metadata": {
        "id": "UcIM7ohos8ub",
        "colab_type": "code",
        "colab": {}
      },
      "source": [
        "plot_model(inceptionv3, show_shapes=True)"
      ],
      "execution_count": 0,
      "outputs": []
    },
    {
      "cell_type": "code",
      "metadata": {
        "id": "9mYF0HgfqB9a",
        "colab_type": "code",
        "outputId": "00f9791f-84e7-41c6-e897-33d9aa0dae35",
        "colab": {
          "base_uri": "https://localhost:8080/",
          "height": 748
        }
      },
      "source": [
        "# TRAIN model\n",
        "from math import ceil, floor\n",
        "from keras.callbacks import ModelCheckpoint\n",
        "\n",
        "# train the model on the new data for a few epochs\n",
        "steps_per_epoch = ceil(train_size/16)\n",
        "validation_steps = ceil(validation_size/16)\n",
        "\n",
        "history_model1 = model1.fit_generator(train_generator, epochs=17, verbose=1, \n",
        "                              steps_per_epoch=steps_per_epoch,\n",
        "                              validation_data=validation_generator,\n",
        "                              validation_steps=validation_steps,\n",
        "                              validation_freq=1,\n",
        "                              class_weight=class_weights)"
      ],
      "execution_count": 0,
      "outputs": [
        {
          "output_type": "stream",
          "text": [
            "WARNING:tensorflow:From /usr/local/lib/python3.6/dist-packages/tensorflow_core/python/ops/math_grad.py:1424: where (from tensorflow.python.ops.array_ops) is deprecated and will be removed in a future version.\n",
            "Instructions for updating:\n",
            "Use tf.where in 2.0, which has the same broadcast rule as np.where\n",
            "WARNING:tensorflow:From /usr/local/lib/python3.6/dist-packages/keras/backend/tensorflow_backend.py:1033: The name tf.assign_add is deprecated. Please use tf.compat.v1.assign_add instead.\n",
            "\n",
            "WARNING:tensorflow:From /usr/local/lib/python3.6/dist-packages/keras/backend/tensorflow_backend.py:1020: The name tf.assign is deprecated. Please use tf.compat.v1.assign instead.\n",
            "\n",
            "Epoch 1/17\n",
            "257/257 [==============================] - 201s 783ms/step - loss: 0.2573 - categorical_accuracy: 0.9028 - val_loss: 1.1830 - val_categorical_accuracy: 0.5866\n",
            "Epoch 2/17\n",
            "257/257 [==============================] - 180s 699ms/step - loss: 0.1840 - categorical_accuracy: 0.9317 - val_loss: 0.3959 - val_categorical_accuracy: 0.8850\n",
            "Epoch 3/17\n",
            "257/257 [==============================] - 179s 698ms/step - loss: 0.1519 - categorical_accuracy: 0.9417 - val_loss: 0.1508 - val_categorical_accuracy: 0.9328\n",
            "Epoch 4/17\n",
            "257/257 [==============================] - 180s 700ms/step - loss: 0.1534 - categorical_accuracy: 0.9419 - val_loss: 0.3241 - val_categorical_accuracy: 0.9100\n",
            "Epoch 5/17\n",
            "257/257 [==============================] - 181s 703ms/step - loss: 0.1353 - categorical_accuracy: 0.9484 - val_loss: 0.0960 - val_categorical_accuracy: 0.9624\n",
            "Epoch 6/17\n",
            "257/257 [==============================] - 179s 698ms/step - loss: 0.1367 - categorical_accuracy: 0.9523 - val_loss: 0.1450 - val_categorical_accuracy: 0.9476\n",
            "Epoch 7/17\n",
            "257/257 [==============================] - 181s 703ms/step - loss: 0.1234 - categorical_accuracy: 0.9506 - val_loss: 0.2090 - val_categorical_accuracy: 0.9191\n",
            "Epoch 8/17\n",
            "257/257 [==============================] - 180s 702ms/step - loss: 0.1372 - categorical_accuracy: 0.9472 - val_loss: 0.5676 - val_categorical_accuracy: 0.7882\n",
            "Epoch 9/17\n",
            "257/257 [==============================] - 179s 696ms/step - loss: 0.1293 - categorical_accuracy: 0.9513 - val_loss: 0.2791 - val_categorical_accuracy: 0.9021\n",
            "Epoch 10/17\n",
            "257/257 [==============================] - 179s 697ms/step - loss: 0.1109 - categorical_accuracy: 0.9599 - val_loss: 0.3850 - val_categorical_accuracy: 0.8519\n",
            "Epoch 11/17\n",
            "257/257 [==============================] - 178s 692ms/step - loss: 0.1110 - categorical_accuracy: 0.9597 - val_loss: 0.1734 - val_categorical_accuracy: 0.9362\n",
            "Epoch 12/17\n",
            "257/257 [==============================] - 179s 695ms/step - loss: 0.0940 - categorical_accuracy: 0.9669 - val_loss: 0.1036 - val_categorical_accuracy: 0.9647\n",
            "Epoch 13/17\n",
            "257/257 [==============================] - 180s 699ms/step - loss: 0.0921 - categorical_accuracy: 0.9691 - val_loss: 0.1090 - val_categorical_accuracy: 0.9579\n",
            "Epoch 14/17\n",
            "257/257 [==============================] - 180s 699ms/step - loss: 0.1003 - categorical_accuracy: 0.9621 - val_loss: 0.1208 - val_categorical_accuracy: 0.9613\n",
            "Epoch 15/17\n",
            "257/257 [==============================] - 179s 697ms/step - loss: 0.0877 - categorical_accuracy: 0.9679 - val_loss: 0.1394 - val_categorical_accuracy: 0.9533\n",
            "Epoch 16/17\n",
            "257/257 [==============================] - 181s 705ms/step - loss: 0.0916 - categorical_accuracy: 0.9657 - val_loss: 0.2269 - val_categorical_accuracy: 0.9055\n",
            "Epoch 17/17\n",
            "257/257 [==============================] - 179s 695ms/step - loss: 0.0874 - categorical_accuracy: 0.9696 - val_loss: 0.0874 - val_categorical_accuracy: 0.9738\n"
          ],
          "name": "stdout"
        }
      ]
    },
    {
      "cell_type": "code",
      "metadata": {
        "id": "mjcpmRBLwa83",
        "colab_type": "code",
        "outputId": "585e2072-daba-439d-88da-178e3cda2ace",
        "colab": {
          "base_uri": "https://localhost:8080/",
          "height": 1000
        }
      },
      "source": [
        "# Plot training & validation accuracy values\n",
        "fig = plt.figure(figsize=(10, 8))\n",
        "plt.plot(history_model1.history['categorical_accuracy'])\n",
        "plt.plot(history_model1.history['val_categorical_accuracy'])\n",
        "plt.title('Model accuracy',fontsize=20)\n",
        "plt.ylabel('Accuracy',fontsize=18)\n",
        "plt.xlabel('Epoch',fontsize=18)\n",
        "plt.yticks(fontsize=16)\n",
        "plt.xticks(fontsize=16)\n",
        "plt.legend(['Train', 'Test'], loc='lower right',fontsize=18)\n",
        "plt.show()\n",
        "fig.savefig('/content/gdrive/My Drive/ECE1512/stage1/model1/model1_history_accuracy_17epoch.jpeg')\n",
        "\n",
        "# Plot training & validation loss values\n",
        "fig = plt.figure(figsize=(10, 8))\n",
        "plt.plot(history_model1.history['loss'])\n",
        "plt.plot(history_model1.history['val_loss'])\n",
        "plt.title('Model loss',fontsize=20)\n",
        "plt.ylabel('Loss',fontsize=18)\n",
        "plt.xlabel('Epoch',fontsize=18)\n",
        "plt.yticks(fontsize=16)\n",
        "plt.xticks(fontsize=16)\n",
        "plt.legend(['Train', 'Test'], loc='upper right',fontsize=18)\n",
        "plt.show()\n",
        "fig.savefig('/content/gdrive/My Drive/ECE1512/stage1/model1/model1_history_loss_17epoch.jpeg')"
      ],
      "execution_count": 0,
      "outputs": [
        {
          "output_type": "display_data",
          "data": {
            "image/png": "[encoded data removed]",
            "text/plain": [
              "<Figure size 720x576 with 1 Axes>"
            ]
          },
          "metadata": {
            "tags": []
          }
        },
        {
          "output_type": "display_data",
          "data": {
            "image/png": "[encoded data removed]",
            "text/plain": [
              "<Figure size 720x576 with 1 Axes>"
            ]
          },
          "metadata": {
            "tags": []
          }
        }
      ]
    },
    {
      "cell_type": "code",
      "metadata": {
        "id": "zLFeU6oF4CZI",
        "colab_type": "code",
        "outputId": "01a726cc-372e-4fe7-8089-b3ea4b668189",
        "colab": {
          "base_uri": "https://localhost:8080/",
          "height": 139
        }
      },
      "source": [
        "results = model1.predict_generator(test_generator)\n",
        "print(results)"
      ],
      "execution_count": 0,
      "outputs": [
        {
          "output_type": "stream",
          "text": [
            "[[9.5013738e-01 4.9448669e-02]\n",
            " [9.2607355e-01 3.4079224e-02]\n",
            " [6.9273394e-01 3.1093687e-01]\n",
            " ...\n",
            " [1.2814999e-06 1.0000000e+00]\n",
            " [1.1713207e-03 1.0000000e+00]\n",
            " [2.7673910e-04 1.0000000e+00]]\n"
          ],
          "name": "stdout"
        }
      ]
    },
    {
      "cell_type": "code",
      "metadata": {
        "id": "xYjfe7vM41rq",
        "colab_type": "code",
        "outputId": "a4dfad19-1576-40cd-805f-c801d8949239",
        "colab": {
          "base_uri": "https://localhost:8080/",
          "height": 433
        }
      },
      "source": [
        "pred_scores = model1.predict(test_generator)\n",
        "y_pred = np.argmax(pred_scores,axis=1)\n",
        "print(y_pred)"
      ],
      "execution_count": 0,
      "outputs": [
        {
          "output_type": "stream",
          "text": [
            "[0 0 1 0 0 0 0 0 0 0 0 1 1 0 0 0 0 1 1 0 0 0 0 0 0 0 0 0 0 0 0 0 0 0 0 0 0\n",
            " 0 0 0 0 0 0 0 0 0 0 0 0 1 0 0 0 0 0 0 0 0 0 0 0 0 0 0 0 0 0 0 0 0 0 0 0 0\n",
            " 0 0 0 0 0 1 0 0 0 0 0 0 0 0 0 0 0 0 0 1 0 0 0 0 0 0 0 1 1 0 1 1 0 1 0 0 0\n",
            " 1 1 0 1 0 0 0 0 1 0 0 0 0 0 0 0 0 0 0 0 0 0 0 0 0 0 0 0 0 1 0 0 0 0 0 0 0\n",
            " 0 1 0 0 0 0 1 1 0 0 0 0 0 0 0 1 0 0 0 0 0 0 0 0 0 0 0 0 0 0 0 1 0 0 0 0 0\n",
            " 0 0 0 0 0 0 0 0 0 0 0 0 0 1 0 0 0 0 0 0 0 0 0 0 0 0 0 0 0 0 0 0 0 0 0 1 0\n",
            " 0 0 0 0 0 0 0 0 0 0 0 0 0 0 0 1 1 1 1 1 1 1 1 1 1 1 1 1 1 1 1 1 1 1 1 1 1\n",
            " 1 1 1 1 1 1 1 1 1 1 1 1 1 1 1 1 1 1 1 1 1 1 1 1 1 1 1 1 1 1 1 1 1 1 1 1 1\n",
            " 1 1 1 1 1 1 1 1 1 1 1 1 1 1 1 1 1 1 1 1 1 1 1 1 1 1 1 1 1 1 1 1 1 1 1 1 0\n",
            " 1 1 1 1 1 1 1 1 1 1 1 1 1 1 1 1 1 1 1 1 1 1 1 1 1 1 1 1 1 1 1 1 1 1 1 1 1\n",
            " 1 1 1 1 1 1 1 1 1 1 1 1 1 1 1 1 1 1 1 1 1 1 1 1 1 1 1 1 1 1 1 0 1 1 1 1 1\n",
            " 1 1 1 1 1 0 1 1 1 1 1 1 1 1 1 1 1 1 1 1 1 1 1 1 1 1 1 1 1 1 0 1 1 1 1 1 1\n",
            " 1 1 1 1 1 1 1 1 1 1 1 1 1 1 1 1 1 1 1 1 1 1 1 1 1 1 1 1 1 1 1 1 1 1 1 1 1\n",
            " 1 1 1 1 1 1 1 1 1 1 1 1 1 1 1 1 1 1 1 1 1 1 1 1 1 1 1 1 1 1 1 1 1 1 1 1 1\n",
            " 1 1 1 1 1 1 1 1 1 1 1 1 1 1 1 1 1 1 1 1 1 1 1 1 1 1 1 1 1 1 1 1 1 1 0 1 1\n",
            " 1 1 1 1 1 1 1 1 1 1 1 1 1 1 1 1 1 1 1 1 1 1 1 1 1 1 1 1 1 1 1 1 1 1 1 0 1\n",
            " 1 1 1 1 1 1 1 1 0 1 1 1 1 1 1 1 1 1 1 1 1 1 1 1 1 1 1 1 1 1 1 1 1 1 1 1 1\n",
            " 1 1 0 1 1 1 1 1 1 1 0 1 1 1 1 1 1 1 1 1 1 0 1 1 1 1 1 1 1 1 1 1 1 1 1 1 1\n",
            " 1 1 1 1 1 1 1 1 1 1 1 1 1 1 1 1 1 1 1 1 1 1 1 1 1 1 1 1 1 1 1 1 1 1 1 1 1\n",
            " 1 1 1 1 1 1 1 1 1 1 1 1 1 1 1 1 1 1 1 1 1 1 1 1 1 1 1 1 1 1 1 1 1 1 1 1 1\n",
            " 1 1 1 1 1 1 1 1 1 1 1 1 1 1 1 1 1 1 1 1 1 0 1 1 1 1 1 1 1 1 1 1 1 1 1 1 1\n",
            " 1 1 1 1 1 1 1 1 1 1 1 1 1 1 1 1 1 1 1 1 1 1 1 1 1 1 1 1 1 1 1 1 1 0 1 1 1\n",
            " 1 1 1 0 1 1 1 1 1 1 1 1 1 1 1 1 1 1 1 1 1 1 1 1 1 1 1 1 1 1 1 1 1 1 1 1 1\n",
            " 1 1 1 1 1 1 1 1 1 1 1 1 1 1 1 1 1 1 1 1 1 1 1 1 1 1 1 1]\n"
          ],
          "name": "stdout"
        }
      ]
    },
    {
      "cell_type": "code",
      "metadata": {
        "id": "jBo4v7jo56Zu",
        "colab_type": "code",
        "outputId": "233e98d0-fb9d-4329-f9bb-42d2930dce6f",
        "colab": {
          "base_uri": "https://localhost:8080/",
          "height": 433
        }
      },
      "source": [
        "print(test_generator.classes)"
      ],
      "execution_count": 0,
      "outputs": [
        {
          "output_type": "stream",
          "text": [
            "[0 0 0 0 0 0 0 0 0 0 0 0 0 0 0 0 0 0 0 0 0 0 0 0 0 0 0 0 0 0 0 0 0 0 0 0 0\n",
            " 0 0 0 0 0 0 0 0 0 0 0 0 0 0 0 0 0 0 0 0 0 0 0 0 0 0 0 0 0 0 0 0 0 0 0 0 0\n",
            " 0 0 0 0 0 0 0 0 0 0 0 0 0 0 0 0 0 0 0 0 0 0 0 0 0 0 0 0 0 0 0 0 0 0 0 0 0\n",
            " 0 0 0 0 0 0 0 0 0 0 0 0 0 0 0 0 0 0 0 0 0 0 0 0 0 0 0 0 0 0 0 0 0 0 0 0 0\n",
            " 0 0 0 0 0 0 0 0 0 0 0 0 0 0 0 0 0 0 0 0 0 0 0 0 0 0 0 0 0 0 0 0 0 0 0 0 0\n",
            " 0 0 0 0 0 0 0 0 0 0 0 0 0 0 0 0 0 0 0 0 0 0 0 0 0 0 0 0 0 0 0 0 0 0 0 0 0\n",
            " 0 0 0 0 0 0 0 0 0 0 0 0 0 0 0 0 1 1 1 1 1 1 1 1 1 1 1 1 1 1 1 1 1 1 1 1 1\n",
            " 1 1 1 1 1 1 1 1 1 1 1 1 1 1 1 1 1 1 1 1 1 1 1 1 1 1 1 1 1 1 1 1 1 1 1 1 1\n",
            " 1 1 1 1 1 1 1 1 1 1 1 1 1 1 1 1 1 1 1 1 1 1 1 1 1 1 1 1 1 1 1 1 1 1 1 1 1\n",
            " 1 1 1 1 1 1 1 1 1 1 1 1 1 1 1 1 1 1 1 1 1 1 1 1 1 1 1 1 1 1 1 1 1 1 1 1 1\n",
            " 1 1 1 1 1 1 1 1 1 1 1 1 1 1 1 1 1 1 1 1 1 1 1 1 1 1 1 1 1 1 1 1 1 1 1 1 1\n",
            " 1 1 1 1 1 1 1 1 1 1 1 1 1 1 1 1 1 1 1 1 1 1 1 1 1 1 1 1 1 1 1 1 1 1 1 1 1\n",
            " 1 1 1 1 1 1 1 1 1 1 1 1 1 1 1 1 1 1 1 1 1 1 1 1 1 1 1 1 1 1 1 1 1 1 1 1 1\n",
            " 1 1 1 1 1 1 1 1 1 1 1 1 1 1 1 1 1 1 1 1 1 1 1 1 1 1 1 1 1 1 1 1 1 1 1 1 1\n",
            " 1 1 1 1 1 1 1 1 1 1 1 1 1 1 1 1 1 1 1 1 1 1 1 1 1 1 1 1 1 1 1 1 1 1 1 1 1\n",
            " 1 1 1 1 1 1 1 1 1 1 1 1 1 1 1 1 1 1 1 1 1 1 1 1 1 1 1 1 1 1 1 1 1 1 1 1 1\n",
            " 1 1 1 1 1 1 1 1 1 1 1 1 1 1 1 1 1 1 1 1 1 1 1 1 1 1 1 1 1 1 1 1 1 1 1 1 1\n",
            " 1 1 1 1 1 1 1 1 1 1 1 1 1 1 1 1 1 1 1 1 1 1 1 1 1 1 1 1 1 1 1 1 1 1 1 1 1\n",
            " 1 1 1 1 1 1 1 1 1 1 1 1 1 1 1 1 1 1 1 1 1 1 1 1 1 1 1 1 1 1 1 1 1 1 1 1 1\n",
            " 1 1 1 1 1 1 1 1 1 1 1 1 1 1 1 1 1 1 1 1 1 1 1 1 1 1 1 1 1 1 1 1 1 1 1 1 1\n",
            " 1 1 1 1 1 1 1 1 1 1 1 1 1 1 1 1 1 1 1 1 1 1 1 1 1 1 1 1 1 1 1 1 1 1 1 1 1\n",
            " 1 1 1 1 1 1 1 1 1 1 1 1 1 1 1 1 1 1 1 1 1 1 1 1 1 1 1 1 1 1 1 1 1 1 1 1 1\n",
            " 1 1 1 1 1 1 1 1 1 1 1 1 1 1 1 1 1 1 1 1 1 1 1 1 1 1 1 1 1 1 1 1 1 1 1 1 1\n",
            " 1 1 1 1 1 1 1 1 1 1 1 1 1 1 1 1 1 1 1 1 1 1 1 1 1 1 1 1]\n"
          ],
          "name": "stdout"
        }
      ]
    },
    {
      "cell_type": "code",
      "metadata": {
        "id": "LiENhz4ZGfIG",
        "colab_type": "code",
        "colab": {}
      },
      "source": [
        "model1.save('/content/gdrive/My Drive/ECE1512/stage1/model1/model1_17epochs.h5')"
      ],
      "execution_count": 0,
      "outputs": []
    },
    {
      "cell_type": "code",
      "metadata": {
        "id": "x--MD7ir8ed5",
        "colab_type": "code",
        "colab": {}
      },
      "source": [
        "import pandas as pd\n",
        "hist_df = pd.DataFrame(history_model1.history)\n",
        "\n",
        "# save to json:  \n",
        "hist_json_file = '/content/gdrive/My Drive/ECE1512/stage1/model1/history_model1_17epochs.json'\n",
        "with open(hist_json_file, mode='w') as f:\n",
        "    hist_df.to_json(f)"
      ],
      "execution_count": 0,
      "outputs": []
    },
    {
      "cell_type": "code",
      "metadata": {
        "id": "ytjzPwYxbS_Y",
        "colab_type": "code",
        "colab": {}
      },
      "source": [
        "import pandas as pd\n",
        "import json\n",
        "\n",
        "with open('/content/gdrive/My Drive/ECE1512/stage1/model1/history_model1.json', 'r') as f:\n",
        "  data = json.load(f)\n",
        "history_model1 = pd.DataFrame(data)"
      ],
      "execution_count": 0,
      "outputs": []
    },
    {
      "cell_type": "code",
      "metadata": {
        "id": "ai0yBN3_ObR5",
        "colab_type": "code",
        "outputId": "257e56ef-21d4-45bc-ce63-8ee5f99af737",
        "colab": {
          "base_uri": "https://localhost:8080/",
          "height": 35
        }
      },
      "source": [
        "eval_results = model1.evaluate_generator(test_generator)\n",
        "print(eval_results)"
      ],
      "execution_count": 0,
      "outputs": [
        {
          "output_type": "stream",
          "text": [
            "[0.19561535670963434, 0.9158134244814667]\n"
          ],
          "name": "stdout"
        }
      ]
    },
    {
      "cell_type": "code",
      "metadata": {
        "id": "ThgYnkPwFUeD",
        "colab_type": "code",
        "outputId": "f914398f-5a91-4aa8-c8ae-e8e48d47a015",
        "colab": {
          "base_uri": "https://localhost:8080/",
          "height": 173
        }
      },
      "source": [
        "from sklearn.metrics import classification_report, precision_score, precision_score, f1_score\n",
        "\n",
        "pred = model1.predict(test_generator)\n",
        "y_pred = np.argmax(pred, axis=1)\n",
        "print(classification_report(test_generator.labels, y_pred, target_names=CLASSES))"
      ],
      "execution_count": 0,
      "outputs": [
        {
          "output_type": "stream",
          "text": [
            "              precision    recall  f1-score   support\n",
            "\n",
            "      normal       0.94      0.76      0.84       238\n",
            "   pneumonia       0.92      0.98      0.95       641\n",
            "\n",
            "    accuracy                           0.92       879\n",
            "   macro avg       0.93      0.87      0.90       879\n",
            "weighted avg       0.92      0.92      0.92       879\n",
            "\n"
          ],
          "name": "stdout"
        }
      ]
    }
  ]
}